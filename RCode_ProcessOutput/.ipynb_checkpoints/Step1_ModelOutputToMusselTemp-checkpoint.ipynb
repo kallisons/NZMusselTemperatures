{
 "cells": [
  {
   "cell_type": "code",
   "execution_count": null,
   "metadata": {},
   "outputs": [],
   "source": [
    "require(chron)"
   ]
  },
  {
   "cell_type": "code",
   "execution_count": null,
   "metadata": {},
   "outputs": [],
   "source": [
    "site<-'NZSIBT'\n",
    "longitude<-172.78 "
   ]
  },
  {
   "cell_type": "code",
   "execution_count": null,
   "metadata": {},
   "outputs": [],
   "source": [
    "#site<-'NZSINR'\n",
    "#longitude<-171.44"
   ]
  },
  {
   "cell_type": "code",
   "execution_count": null,
   "metadata": {},
   "outputs": [],
   "source": [
    "#File Path\n",
    "#modeloutpath <- paste(\"../modeloutput/\", site, \"/\", sep=\"\")\n",
    "\n",
    "modeloutpath <- paste(\"/Data/NZ_MusselModelOutput/modeloutput/\", site, \"/\", sep=\"\")\n",
    "heightlist<-list.files(modeloutpath) "
   ]
  },
  {
   "cell_type": "code",
   "execution_count": null,
   "metadata": {},
   "outputs": [],
   "source": [
    "heightlist"
   ]
  },
  {
   "cell_type": "code",
   "execution_count": null,
   "metadata": {},
   "outputs": [],
   "source": [
    "for(a in 1:length(heightlist)){\n",
    "    modelpath1h <-paste(modeloutpath, heightlist[a], sep=\"\")\n",
    "    outfilelist <- list.files(modelpath1h)\n",
    "\n",
    "    for(z in 1:length(outfilelist)){\n",
    "        cat(\"site:\", site, \"\\n\")\n",
    "        cat(\"longitude:\", longitude, \"\\n\")\n",
    "        point<-substr(outfilelist[z], 8, 10)\n",
    "        cat(\"shore level: \", as.numeric(point), \"cm\", \"\\n\", sep=\"\")\n",
    "        year<-as.numeric(substr(outfilelist[z], 21,24))\n",
    "        cat(\"year: \", year, \"\\n\", sep=\"\")\n",
    "\n",
    "        widths=list(jday=0,hhmm=0,f=0,RNETcalc=0,\n",
    "        CH=0,CM=0,H=0,S=0,AET=0,RES=0,Fup=0,FLX1=0, FLX2=0,FLX3=0,Tskin=0,Q1=0,ETPS=0,\n",
    "        X1=0,X2=0,X3=0,X4=0,X5=0,\n",
    "        X6=0,X7=0,X8=0,X9=0,X10=0,\n",
    "        X11=0,X12=0,X13=0,X14=0,X15=0,\n",
    "        X16=0,X17=0,X18=0,X19=0,X20=0)\n",
    "\n",
    "        data<-data.frame(scan(paste(modelpath1h, \"/\", outfilelist[z], sep=\"\"), widths, multi.line=TRUE))\n",
    "\n",
    "        data$nchar<-nchar(data$hhmm)\n",
    "        data$hhmm<-ifelse(data$nchar==1, paste(\"000\", data$hhmm, sep=\"\"), ifelse(data$nchar==2, paste(\"00\", data$hhmm, sep=\"\"), ifelse(data$nchar==3, paste(0, data$hhmm, sep=\"\"), data$hhmm)))\n",
    "        data$Date<-paste(year, data$jday, data$hhmm)\n",
    "        store<-strptime(data$Date, \"%Y %j %H%M\")\n",
    "        store2<-as.POSIXct(store)\n",
    "        class(store2)<-(\"numeric\")\n",
    "        data$Unix<-store2\n",
    "        data$Unix<-data$Unix+longitude*240  #Convert from UTC to local time based on solar noon.  \n",
    "        data$Unix<-round(data$Unix, digits=0)\n",
    "        DateConvert<-data$Unix\n",
    "        class(DateConvert)<-\"POSIXct\"\n",
    "        DateExtract<-as.POSIXlt(DateConvert)\n",
    "        data$Date<-as.character(DateExtract, format=\"%Y-%m-%d\")\n",
    "        data$Time<-as.character(DateExtract, format=\"%H:%M\")\n",
    "\n",
    "        beddepth <- 1\n",
    "        data<-data[,c(\"Unix\",\"Date\",\"Time\", paste(\"X\", beddepth, sep=\"\"))]\n",
    "        colnames(data)[4]<-\"Temp\"\n",
    "        data$Temp<-data$Temp-273.15\n",
    "        data$Temp<-round(data$Temp, digits=1)\n",
    "\n",
    "        assign(outfilelist[z], data)\n",
    "\n",
    "    }\n",
    "\n",
    "    alldata<-do.call(\"rbind\", lapply(outfilelist, as.name))\n",
    "    alldata<-alldata[order(alldata$Unix),]\n",
    "\n",
    "    #File Path\n",
    "\n",
    "    outfolder <- paste(\"../processedoutput/\", site, \"/\", sep=\"\")\n",
    "    dir.create(outfolder, showWarnings = FALSE)\n",
    "    out<-paste(outfolder, \"musselt_\", site, \"_\", point, \"cm.txt\", sep=\"\")\n",
    "    write.table(alldata, out, col.names=TRUE, row.names=FALSE, quote=FALSE, sep=\"\\t\")\n",
    "}"
   ]
  },
  {
   "cell_type": "code",
   "execution_count": null,
   "metadata": {},
   "outputs": [],
   "source": []
  }
 ],
 "metadata": {
  "kernelspec": {
   "display_name": "R",
   "language": "R",
   "name": "ir"
  },
  "language_info": {
   "codemirror_mode": "r",
   "file_extension": ".r",
   "mimetype": "text/x-r-source",
   "name": "R",
   "pygments_lexer": "r",
   "version": "3.4.2"
  }
 },
 "nbformat": 4,
 "nbformat_minor": 2
}
