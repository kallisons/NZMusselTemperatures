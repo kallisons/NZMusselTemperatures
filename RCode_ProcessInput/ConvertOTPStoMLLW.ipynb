{
 "cells": [
  {
   "cell_type": "code",
   "execution_count": 22,
   "metadata": {},
   "outputs": [],
   "source": [
    "require(chron)"
   ]
  },
  {
   "cell_type": "code",
   "execution_count": 30,
   "metadata": {},
   "outputs": [],
   "source": [
    "site <- 'NZSIBT'\n",
    "#site <- 'NZSINR'"
   ]
  },
  {
   "cell_type": "code",
   "execution_count": 31,
   "metadata": {},
   "outputs": [
    {
     "name": "stdout",
     "output_type": "stream",
     "text": [
      "[1] -0.8817617\n"
     ]
    }
   ],
   "source": [
    "infile <- paste('../data/', site, '/tides/tides_', site, '.out', sep=\"\") \n",
    "data<-read.table(infile)\n",
    "data<-data[,3:5]\n",
    "colnames(data)<-c(\"Date\", \"Time\", \"Tide\")\n",
    "dailymin<-aggregate(data$Tide, list(data$Date), min)\n",
    "colnames(dailymin)<-c(\"Date\", \"MinTide\")\n",
    "MLLW<-mean(dailymin$MinTide)\n",
    "print(MLLW)\n",
    "data$Tide<-(MLLW-data$Tide)*-1\n",
    "data$Tide<-round(data$Tide, digits=3)"
   ]
  },
  {
   "cell_type": "code",
   "execution_count": 32,
   "metadata": {},
   "outputs": [],
   "source": [
    "#outfile<-paste('../data/', site, '/tides/tides_MLLW_', site, '.out', sep='')\n",
    "#write.table(data, outfile, row.names=FALSE, col.names=TRUE, sep=\"\\t\", quote=FALSE)"
   ]
  },
  {
   "cell_type": "code",
   "execution_count": 33,
   "metadata": {},
   "outputs": [
    {
     "data": {
      "text/html": [
       "2.146"
      ],
      "text/latex": [
       "2.146"
      ],
      "text/markdown": [
       "2.146"
      ],
      "text/plain": [
       "[1] 2.146"
      ]
     },
     "metadata": {},
     "output_type": "display_data"
    }
   ],
   "source": [
    "max(data$Tide)"
   ]
  },
  {
   "cell_type": "code",
   "execution_count": null,
   "metadata": {},
   "outputs": [],
   "source": [
    "max(data$Tide)"
   ]
  },
  {
   "cell_type": "code",
   "execution_count": null,
   "metadata": {},
   "outputs": [],
   "source": []
  },
  {
   "cell_type": "code",
   "execution_count": null,
   "metadata": {},
   "outputs": [],
   "source": []
  },
  {
   "cell_type": "code",
   "execution_count": null,
   "metadata": {},
   "outputs": [],
   "source": []
  },
  {
   "cell_type": "code",
   "execution_count": null,
   "metadata": {},
   "outputs": [],
   "source": []
  }
 ],
 "metadata": {
  "kernelspec": {
   "display_name": "R",
   "language": "R",
   "name": "ir"
  },
  "language_info": {
   "codemirror_mode": "r",
   "file_extension": ".r",
   "mimetype": "text/x-r-source",
   "name": "R",
   "pygments_lexer": "r",
   "version": "3.4.2"
  }
 },
 "nbformat": 4,
 "nbformat_minor": 2
}
