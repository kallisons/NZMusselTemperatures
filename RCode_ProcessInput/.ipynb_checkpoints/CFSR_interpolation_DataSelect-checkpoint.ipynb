{
 "cells": [
  {
   "cell_type": "code",
   "execution_count": null,
   "metadata": {},
   "outputs": [],
   "source": [
    "require(ncdf4)\n",
    "require(RNetCDF)\n",
    "source(\"weichert.interp_function.R\")\n",
    "utinit.nc()\n",
    "Sys.setenv(TZ=\"UTC\")"
   ]
  },
  {
   "cell_type": "code",
   "execution_count": null,
   "metadata": {},
   "outputs": [],
   "source": [
    "infolder<-paste(\"/Volumes/HELIOS/Data/Meteorological/CFSR_Data_NZ/\", sep=\"\")\n",
    "years<-c(1990,1991,1992,1993,1994,1995,1996,1997,1998,1999,2000,2001,2002,2003,2004,2005,2006,2007,2008,2009)"
   ]
  },
  {
   "cell_type": "code",
   "execution_count": null,
   "metadata": {},
   "outputs": [],
   "source": [
    "for(j in 1:length(years)){\n",
    "    year <- years[j]\n",
    "    filenames<-list.files(path=paste(infolder, year, \"/\", sep=\"\"), pattern=NULL, full.names=FALSE, recursive=FALSE)\n",
    "    \n",
    "    for(i in 1:length(filenames)){\n",
    "        filename <- filenames[i]\n",
    "        print(filename)\n",
    "        nc<-nc_open(paste(infolder, year, \"/\", filename, sep=\"\"))\n",
    "        \n",
    "        #Latitude and Longitude of Sites\n",
    "        NZSINR<-c(\"NZSINR\", -41.90, 171.44)\n",
    "        NZSIBT<-c(\"NZSIBT\", -43.58, 172.78)\n",
    "        sites<-rbind(NZSINR, NZSIBT)\n",
    "        sites<-sites[,-1]\n",
    "        class(sites)<-\"numeric\"\n",
    "        \n",
    "        for(k in 1:nrow(sites)){   \n",
    "            times<-as.data.frame(nc$dim$time$vals)\n",
    "            colnames(times)<-\"Time\"\n",
    "            times$metdata<-rep(NA)\n",
    "            dims<-nc$var[[1]]$ndim\n",
    "            \n",
    "            if(dims==3){\n",
    "                for(n in 1:nrow(times)){\n",
    "                    lats<-nc$dim$lat$vals\n",
    "                    lats<-sort(lats)\n",
    "                    lons<-nc$dim$lon$vals\n",
    "                    z<-ncvar_get(nc, nc$var[[1]], start=c(1,1,n), count=c(49,52,1))\n",
    "                    z<-z[,52:1]\n",
    "                    obj<-list(lats, lons, z)\n",
    "                    sitevalue<-weichert.interp(obj, sites[k,]) \n",
    "                    times[n,2]<-sitevalue\n",
    "                    }\n",
    "            }\n",
    "            \n",
    "            if(dims==4){\n",
    "                for(n in 1:nrow(times)){\n",
    "                    lats<-nc$dim$lat$vals\n",
    "                    lats<-sort(lats)\n",
    "                    lons<-nc$dim$lon$vals\n",
    "                    z<-ncvar_get(nc, nc$var[[1]], start=c(1,1,1,n), count=c(49,52,1,1))\n",
    "                    z<-z[,52:1]\n",
    "                    obj<-list(lats, lons, z)\n",
    "                    sitevalue<-weichert.interp(obj, sites[k,])  \n",
    "                    times[n,2]<-sitevalue\n",
    "                    }\n",
    "            }\n",
    "            \n",
    "            tunits<-nc$dim$time$units\n",
    "            dates<-utcal.nc(tunits, times$Time)\n",
    "            unix_units<-\"seconds since 1970-1-1 00:00:0.0\"\n",
    "            times$Unix<-utinvcal.nc(unix_units, dates)\n",
    "            jday_units<-paste(\"days since \",year,\"-1-1 00:00:0.0\",sep=\"\")\n",
    "            times$jday<-floor(utinvcal.nc(jday_units, dates))+1\n",
    "            \n",
    "            times<-times[,c(\"Unix\", \"jday\", \"metdata\")]\n",
    "            colnames(times)[3]<-nc$var[[1]]$name\n",
    "            times <- head(times,-1)  #remove the extra row at the end\n",
    "            \n",
    "            outfolder<-paste(\"../data/\", rownames(sites)[k], \"/\", year, sep=\"\")\n",
    "            dir.create(outfolder, showWarnings = FALSE)\n",
    "            outfile<-paste(outfolder, \"/\", filename, sep=\"\")\n",
    "            outfile<-gsub(\"grb2.nc\", paste(rownames(sites)[k], \".txt\", sep=\"\"), outfile)\n",
    "            write.table(times, outfile, row.names=FALSE, col.names=TRUE, quote=FALSE, sep=\"\\t\")\n",
    "        }\n",
    "    nc_close(nc)  \n",
    "    }\n",
    "    \n",
    "}\n"
   ]
  },
  {
   "cell_type": "code",
   "execution_count": null,
   "metadata": {},
   "outputs": [],
   "source": []
  },
  {
   "cell_type": "code",
   "execution_count": null,
   "metadata": {},
   "outputs": [],
   "source": []
  },
  {
   "cell_type": "code",
   "execution_count": null,
   "metadata": {},
   "outputs": [],
   "source": []
  },
  {
   "cell_type": "code",
   "execution_count": null,
   "metadata": {},
   "outputs": [],
   "source": []
  },
  {
   "cell_type": "code",
   "execution_count": null,
   "metadata": {},
   "outputs": [],
   "source": []
  },
  {
   "cell_type": "code",
   "execution_count": null,
   "metadata": {},
   "outputs": [],
   "source": []
  },
  {
   "cell_type": "code",
   "execution_count": null,
   "metadata": {},
   "outputs": [],
   "source": []
  }
 ],
 "metadata": {
  "kernelspec": {
   "display_name": "R",
   "language": "R",
   "name": "ir"
  },
  "language_info": {
   "codemirror_mode": "r",
   "file_extension": ".r",
   "mimetype": "text/x-r-source",
   "name": "R",
   "pygments_lexer": "r",
   "version": "3.4.2"
  }
 },
 "nbformat": 4,
 "nbformat_minor": 2
}
