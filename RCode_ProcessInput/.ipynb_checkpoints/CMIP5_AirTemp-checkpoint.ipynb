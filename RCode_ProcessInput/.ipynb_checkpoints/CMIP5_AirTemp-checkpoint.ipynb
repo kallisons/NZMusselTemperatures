{
 "cells": [
  {
   "cell_type": "code",
   "execution_count": null,
   "metadata": {},
   "outputs": [],
   "source": []
  },
  {
   "cell_type": "code",
   "execution_count": 4,
   "metadata": {},
   "outputs": [],
   "source": [
    "site<-\"NZSINR\"\n",
    "#site<-\"NZSIBT\""
   ]
  },
  {
   "cell_type": "code",
   "execution_count": 9,
   "metadata": {},
   "outputs": [],
   "source": [
    "histfolder<-paste('../modelinput/historical/', site, '/', sep='')\n",
    "histheights<-list.files(histfolder)"
   ]
  },
  {
   "cell_type": "code",
   "execution_count": 17,
   "metadata": {},
   "outputs": [],
   "source": [
    "deltatemp<-3 #calculated delta temp using Ferret"
   ]
  },
  {
   "cell_type": "code",
   "execution_count": 23,
   "metadata": {},
   "outputs": [],
   "source": [
    "for(a in 1:length(histheights)){\n",
    "    a<-1\n",
    "    histpath1h <-paste(histfolder, histheights[a], sep=\"\")\n",
    "    filelist <- list.files(histpath1h)\n",
    "    for(b in 1:length(filelist)){\n",
    "        b<-1\n",
    "        data<-read.table(paste(histpath1h, '/', filelist[b], sep=''))\n",
    "        data[,4]<-ifelse(data[,11]==1,data[,4]+deltatemp, data[,4])        \n",
    "        height<-\n",
    "\n",
    "        newdir <- paste(\"../modelinput/future/\", site, \"/\", histheights[a], sep=\"\")\n",
    "        dir.create(newdir, showWarnings = FALSE)\n",
    "        write.table(data, paste(\"../modelinput/future/\", site, \"/\", histheights[a], \"/\", substr(filelist[b],1,17), \"_cmip5.in\",sep=\"\"), quote=FALSE, row.names=FALSE, col.names=FALSE)\n",
    "        \n",
    "    }\n",
    "}"
   ]
  },
  {
   "cell_type": "code",
   "execution_count": 28,
   "metadata": {},
   "outputs": [
    {
     "data": {
      "text/html": [
       "<ol class=list-inline>\n",
       "\t<li>'NZSINR_050cm_1990'</li>\n",
       "\t<li>'NZSINR_050cm_1991'</li>\n",
       "\t<li>'NZSINR_050cm_1992'</li>\n",
       "\t<li>'NZSINR_050cm_1993'</li>\n",
       "\t<li>'NZSINR_050cm_1994'</li>\n",
       "\t<li>'NZSINR_050cm_1995'</li>\n",
       "\t<li>'NZSINR_050cm_1996'</li>\n",
       "\t<li>'NZSINR_050cm_1997'</li>\n",
       "\t<li>'NZSINR_050cm_1998'</li>\n",
       "\t<li>'NZSINR_050cm_1999'</li>\n",
       "\t<li>'NZSINR_050cm_2000'</li>\n",
       "\t<li>'NZSINR_050cm_2001'</li>\n",
       "\t<li>'NZSINR_050cm_2002'</li>\n",
       "\t<li>'NZSINR_050cm_2003'</li>\n",
       "\t<li>'NZSINR_050cm_2004'</li>\n",
       "\t<li>'NZSINR_050cm_2005'</li>\n",
       "\t<li>'NZSINR_050cm_2006'</li>\n",
       "\t<li>'NZSINR_050cm_2007'</li>\n",
       "\t<li>'NZSINR_050cm_2008'</li>\n",
       "\t<li>'NZSINR_050cm_2009'</li>\n",
       "</ol>\n"
      ],
      "text/latex": [
       "\\begin{enumerate*}\n",
       "\\item 'NZSINR\\_050cm\\_1990'\n",
       "\\item 'NZSINR\\_050cm\\_1991'\n",
       "\\item 'NZSINR\\_050cm\\_1992'\n",
       "\\item 'NZSINR\\_050cm\\_1993'\n",
       "\\item 'NZSINR\\_050cm\\_1994'\n",
       "\\item 'NZSINR\\_050cm\\_1995'\n",
       "\\item 'NZSINR\\_050cm\\_1996'\n",
       "\\item 'NZSINR\\_050cm\\_1997'\n",
       "\\item 'NZSINR\\_050cm\\_1998'\n",
       "\\item 'NZSINR\\_050cm\\_1999'\n",
       "\\item 'NZSINR\\_050cm\\_2000'\n",
       "\\item 'NZSINR\\_050cm\\_2001'\n",
       "\\item 'NZSINR\\_050cm\\_2002'\n",
       "\\item 'NZSINR\\_050cm\\_2003'\n",
       "\\item 'NZSINR\\_050cm\\_2004'\n",
       "\\item 'NZSINR\\_050cm\\_2005'\n",
       "\\item 'NZSINR\\_050cm\\_2006'\n",
       "\\item 'NZSINR\\_050cm\\_2007'\n",
       "\\item 'NZSINR\\_050cm\\_2008'\n",
       "\\item 'NZSINR\\_050cm\\_2009'\n",
       "\\end{enumerate*}\n"
      ],
      "text/markdown": [
       "1. 'NZSINR_050cm_1990'\n",
       "2. 'NZSINR_050cm_1991'\n",
       "3. 'NZSINR_050cm_1992'\n",
       "4. 'NZSINR_050cm_1993'\n",
       "5. 'NZSINR_050cm_1994'\n",
       "6. 'NZSINR_050cm_1995'\n",
       "7. 'NZSINR_050cm_1996'\n",
       "8. 'NZSINR_050cm_1997'\n",
       "9. 'NZSINR_050cm_1998'\n",
       "10. 'NZSINR_050cm_1999'\n",
       "11. 'NZSINR_050cm_2000'\n",
       "12. 'NZSINR_050cm_2001'\n",
       "13. 'NZSINR_050cm_2002'\n",
       "14. 'NZSINR_050cm_2003'\n",
       "15. 'NZSINR_050cm_2004'\n",
       "16. 'NZSINR_050cm_2005'\n",
       "17. 'NZSINR_050cm_2006'\n",
       "18. 'NZSINR_050cm_2007'\n",
       "19. 'NZSINR_050cm_2008'\n",
       "20. 'NZSINR_050cm_2009'\n",
       "\n",
       "\n"
      ],
      "text/plain": [
       " [1] \"NZSINR_050cm_1990\" \"NZSINR_050cm_1991\" \"NZSINR_050cm_1992\"\n",
       " [4] \"NZSINR_050cm_1993\" \"NZSINR_050cm_1994\" \"NZSINR_050cm_1995\"\n",
       " [7] \"NZSINR_050cm_1996\" \"NZSINR_050cm_1997\" \"NZSINR_050cm_1998\"\n",
       "[10] \"NZSINR_050cm_1999\" \"NZSINR_050cm_2000\" \"NZSINR_050cm_2001\"\n",
       "[13] \"NZSINR_050cm_2002\" \"NZSINR_050cm_2003\" \"NZSINR_050cm_2004\"\n",
       "[16] \"NZSINR_050cm_2005\" \"NZSINR_050cm_2006\" \"NZSINR_050cm_2007\"\n",
       "[19] \"NZSINR_050cm_2008\" \"NZSINR_050cm_2009\""
      ]
     },
     "metadata": {},
     "output_type": "display_data"
    }
   ],
   "source": [
    "substr(filelist,1,17)"
   ]
  },
  {
   "cell_type": "code",
   "execution_count": null,
   "metadata": {},
   "outputs": [],
   "source": []
  }
 ],
 "metadata": {
  "kernelspec": {
   "display_name": "R",
   "language": "R",
   "name": "ir"
  },
  "language_info": {
   "codemirror_mode": "r",
   "file_extension": ".r",
   "mimetype": "text/x-r-source",
   "name": "R",
   "pygments_lexer": "r",
   "version": "3.4.2"
  }
 },
 "nbformat": 4,
 "nbformat_minor": 2
}
