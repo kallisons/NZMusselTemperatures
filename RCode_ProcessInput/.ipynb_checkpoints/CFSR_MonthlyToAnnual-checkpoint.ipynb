{
 "cells": [
  {
   "cell_type": "code",
   "execution_count": 24,
   "metadata": {},
   "outputs": [],
   "source": [
    "site<-'NZSIBT'\n",
    "folder<-paste(\"../data/\", site, \"/cfsr/\", sep=\"\")\n",
    "years<-list.files(folder)"
   ]
  },
  {
   "cell_type": "code",
   "execution_count": 25,
   "metadata": {},
   "outputs": [],
   "source": [
    "vars <- c('dlwsfc', 'dswsfc', 'prate', 'pressfc', 'q2m', 'tmp2m', 'uwnd10m', 'vwnd10m')"
   ]
  },
  {
   "cell_type": "code",
   "execution_count": 26,
   "metadata": {},
   "outputs": [],
   "source": [
    "for(a in 1:length(years)){\n",
    "\n",
    "    vars <- c('dlwsfc', 'dswsfc', 'prate', 'pressfc', 'q2m', 'tmp2m', 'uwnd10m', 'vwnd10m')\n",
    "    \n",
    "    for(b in 1:length(vars)){\n",
    "\n",
    "        allmonths <-list.files(paste(folder, years[a], \"/\", sep=\"\"))\n",
    "        files <- allmonths[grep(paste(\"^\", vars[b], sep=\"\"),allmonths)]\n",
    "\n",
    "        for(c in 1:length(files)){\n",
    "\n",
    "            data<-read.table(paste(folder, years[a], \"/\", files[c], sep=\"\"), header=TRUE)\n",
    "\n",
    "            data<-data[-nrow(data),]\n",
    "\n",
    "            assign(files[c], data)\n",
    "\n",
    "        }\n",
    "\n",
    "    all<-do.call(\"rbind\", lapply(files, as.name))\n",
    "    \n",
    "    outfolder <- paste(folder, years[a], \"/annual/\", sep=\"\")\n",
    "    dir.create(outfolder, showWarnings = FALSE)\n",
    "    outfile<-paste(outfolder, vars[b], \".\", years[a], \".\", site, \".txt\", sep=\"\")\n",
    "    \n",
    "    write.table(all, outfile, quote=FALSE, row.names=FALSE, col.names=TRUE, sep=\"\\t\")\n",
    "    }\n",
    "\n",
    "}"
   ]
  },
  {
   "cell_type": "code",
   "execution_count": null,
   "metadata": {},
   "outputs": [],
   "source": []
  },
  {
   "cell_type": "code",
   "execution_count": null,
   "metadata": {},
   "outputs": [],
   "source": []
  }
 ],
 "metadata": {
  "kernelspec": {
   "display_name": "R",
   "language": "R",
   "name": "ir"
  },
  "language_info": {
   "codemirror_mode": "r",
   "file_extension": ".r",
   "mimetype": "text/x-r-source",
   "name": "R",
   "pygments_lexer": "r",
   "version": "3.4.2"
  }
 },
 "nbformat": 4,
 "nbformat_minor": 2
}
