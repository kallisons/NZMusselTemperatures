{
 "cells": [
  {
   "cell_type": "code",
   "execution_count": null,
   "metadata": {},
   "outputs": [],
   "source": [
    "readwavedata <- function(folder, var, filelist){   \n",
    "    for(c in 1:length(filelist)){\n",
    "        data1<-read.table(paste(folder, \"/\", var, \"/\", filelist[c], sep=\"\"), header=TRUE)\n",
    "        data1<-data1[-nrow(data1),]\n",
    "        assign(filelist[c], data1)\n",
    "    }\n",
    "    \n",
    "    alldata<-do.call(\"rbind\", lapply(filelist, as.name))\n",
    "    alldata<-alldata[-nrow(alldata),]\n",
    "    return(alldata)\n",
    "}"
   ]
  },
  {
   "cell_type": "markdown",
   "metadata": {},
   "source": [
    "### NWW"
   ]
  },
  {
   "cell_type": "code",
   "execution_count": 27,
   "metadata": {},
   "outputs": [],
   "source": [
    "site<-'NZSIBT'\n",
    "folder<-paste(\"../data/\", site, \"/ww3_nww2/\", sep=\"\")\n",
    "years<-c(1997,1998,1999,2000,2001,2002,2003,2004,2005)"
   ]
  },
  {
   "cell_type": "code",
   "execution_count": 29,
   "metadata": {},
   "outputs": [],
   "source": [
    "for(y in 1:length(years)){\n",
    "    \n",
    "    files.dp<-list.files(paste(folder, \"/dp/\", sep=\"\"))\n",
    "    files.hs<-list.files(paste(folder, \"/hs/\", sep=\"\"))\n",
    "    files.tp<-list.files(paste(folder, \"/tp/\", sep=\"\"))\n",
    "    \n",
    "    files.dp.1y <- subset(files.dp, as.numeric(substr(files.dp, 9,12)) == years[y])    \n",
    "    files.hs.1y <- subset(files.hs, as.numeric(substr(files.hs, 9,12)) == years[y])\n",
    "    files.tp.1y <- subset(files.tp, as.numeric(substr(files.tp, 9,12)) == years[y])\n",
    "    \n",
    "    dp.1y <- readwavedata(folder, 'dp', files.dp.1y)\n",
    "    hs.1y <- readwavedata(folder, 'hs', files.hs.1y)\n",
    "    tp.1y <- readwavedata(folder, 'tp', files.tp.1y)\n",
    "    \n",
    "    all<-merge(dp.1y, hs.1y, all=TRUE)\n",
    "    all<-merge(all, tp.1y, all=TRUE)\n",
    "    all<-all[order(all$Unix),]\n",
    "    \n",
    "    all.out <- paste(folder, 'annual/nww3_', site, '_', years[y], '.txt', sep='')\n",
    "    write.table(all, all.out, quote=FALSE, row.names=FALSE, col.names=TRUE, sep=\"\\t\")\n",
    "    \n",
    "}"
   ]
  },
  {
   "cell_type": "markdown",
   "metadata": {},
   "source": [
    "### multi"
   ]
  },
  {
   "cell_type": "code",
   "execution_count": 34,
   "metadata": {},
   "outputs": [],
   "source": [
    "site<-'NZSINR'\n",
    "folder<-paste(\"../data/\", site, \"/ww3_multi/\", sep=\"\")\n",
    "years<-c(2006,2007,2008,2009)"
   ]
  },
  {
   "cell_type": "code",
   "execution_count": 35,
   "metadata": {},
   "outputs": [],
   "source": [
    "for(y in 1:length(years)){\n",
    "    \n",
    "    files.dp<-list.files(paste(folder, \"/dp/\", sep=\"\"))\n",
    "    files.hs<-list.files(paste(folder, \"/hs/\", sep=\"\"))\n",
    "    files.tp<-list.files(paste(folder, \"/tp/\", sep=\"\"))\n",
    "    \n",
    "    files.dp.1y <- subset(files.dp, as.numeric(substr(files.dp, 20,23)) == years[y])    \n",
    "    files.hs.1y <- subset(files.hs, as.numeric(substr(files.hs, 20,23)) == years[y])\n",
    "    files.tp.1y <- subset(files.tp, as.numeric(substr(files.tp, 20,23)) == years[y])\n",
    "    \n",
    "    dp.1y <- readwavedata(folder, 'dp', files.dp.1y)\n",
    "    hs.1y <- readwavedata(folder, 'hs', files.hs.1y)\n",
    "    tp.1y <- readwavedata(folder, 'tp', files.tp.1y)\n",
    "    \n",
    "    all<-merge(dp.1y, hs.1y, all=TRUE)\n",
    "    all<-merge(all, tp.1y, all=TRUE)\n",
    "    all<-all[order(all$Unix),]\n",
    "    \n",
    "    all.out <- paste(folder, 'annual/multi_', site, '_', years[y], '.txt', sep='')\n",
    "    write.table(all, all.out, quote=FALSE, row.names=FALSE, col.names=TRUE, sep=\"\\t\")\n",
    "    \n",
    "}"
   ]
  },
  {
   "cell_type": "code",
   "execution_count": null,
   "metadata": {},
   "outputs": [],
   "source": []
  }
 ],
 "metadata": {
  "kernelspec": {
   "display_name": "R",
   "language": "R",
   "name": "ir"
  },
  "language_info": {
   "codemirror_mode": "r",
   "file_extension": ".r",
   "mimetype": "text/x-r-source",
   "name": "R",
   "pygments_lexer": "r",
   "version": "3.4.2"
  }
 },
 "nbformat": 4,
 "nbformat_minor": 2
}
