{
 "cells": [
  {
   "cell_type": "code",
   "execution_count": null,
   "metadata": {},
   "outputs": [],
   "source": [
    "#Neiburger, M, JG Edinger, and WD Bonner. 1982.  Understanding Our Atmospheric Environment. 2nd Edition.  W. H. Freeman and Company, San Francisco."
   ]
  },
  {
   "cell_type": "markdown",
   "metadata": {},
   "source": [
    "### CFSR"
   ]
  },
  {
   "cell_type": "code",
   "execution_count": 27,
   "metadata": {},
   "outputs": [],
   "source": [
    "site <- 'NZSINR'\n",
    "folder<-paste('../data/', site, '/cfsr/', sep=\"\")\n",
    "years <- list.files(folder)"
   ]
  },
  {
   "cell_type": "code",
   "execution_count": 29,
   "metadata": {},
   "outputs": [
    {
     "name": "stdout",
     "output_type": "stream",
     "text": [
      "[1] 100\n",
      "[1] 37\n",
      "[1] 100\n",
      "[1] 42\n",
      "[1] 100\n",
      "[1] 36\n",
      "[1] 100\n",
      "[1] 44\n",
      "[1] 100\n",
      "[1] 39\n",
      "[1] 100\n",
      "[1] 41\n",
      "[1] 99\n",
      "[1] 37\n",
      "[1] 99\n",
      "[1] 33\n",
      "[1] 99\n",
      "[1] 33\n",
      "[1] 97\n",
      "[1] 36\n",
      "[1] 98\n",
      "[1] 37\n",
      "[1] 99\n",
      "[1] 37\n",
      "[1] 100\n",
      "[1] 35\n",
      "[1] 98\n",
      "[1] 35\n",
      "[1] 99\n",
      "[1] 39\n",
      "[1] 100\n",
      "[1] 37\n",
      "[1] 99\n",
      "[1] 37\n",
      "[1] 98\n",
      "[1] 37\n",
      "[1] 98\n",
      "[1] 35\n",
      "[1] 99\n",
      "[1] 38\n"
     ]
    }
   ],
   "source": [
    "i<-1\n",
    "for(i in 1:length(years)){\n",
    "    AIRT<-read.table(paste(folder, years[i], \"/annual/\", \"tmp2m.\", years[i], \".\", site, \".txt\", sep=\"\"), header=TRUE)\n",
    "    SHUM<-read.table(paste(folder, years[i], \"/annual/\", \"q2m.\", years[i], \".\", site, \".txt\", sep=\"\"), header=TRUE)\n",
    "    PRES<-read.table(paste(folder, years[i], \"/annual/\", \"pressfc.\", years[i], \".\", site, \".txt\", sep=\"\"), header=TRUE)\n",
    "    \n",
    "    weather<-merge(AIRT, SHUM, all=TRUE)\n",
    "    weather<-merge(weather, PRES, all=TRUE)\n",
    "    \n",
    "    #Calculate vapor density\n",
    "    weather$ec<-10^(9.4041-(2.354*10^3)/weather$Temperature)\n",
    "    weather$w<-weather$Specific_humidity/(1-weather$Specific_humidity)\n",
    "    weather$ws<-0.622*(weather$ec/((weather$Pressure/100)-weather$ec))\n",
    "\n",
    "    weather$rh<-(weather$w/weather$ws)*100\n",
    "\n",
    "    weather<-weather[,c(\"Unix\", \"jday\", \"rh\")]\n",
    "\n",
    "    weather<-weather[order(weather$Unix),]\n",
    "\n",
    "    weather$rh<-round(weather$rh, digits=0)\n",
    "\n",
    "    weather$rh<-ifelse(weather$rh>100, 100, weather$rh)\n",
    "\n",
    "    print(max(weather$rh))\n",
    "    print(min(weather$rh))\n",
    "\n",
    "    outfile<-paste(folder, years[i], \"/annual/rh2m.\", years[i], \".\", site, \".txt\",  sep=\"\")\n",
    "\n",
    "    write.table(weather, outfile, quote=FALSE, col.names=TRUE, row.names=FALSE, sep=\"\\t\")\n",
    "}"
   ]
  },
  {
   "cell_type": "code",
   "execution_count": 16,
   "metadata": {},
   "outputs": [],
   "source": []
  },
  {
   "cell_type": "code",
   "execution_count": 19,
   "metadata": {},
   "outputs": [],
   "source": []
  },
  {
   "cell_type": "code",
   "execution_count": null,
   "metadata": {},
   "outputs": [],
   "source": []
  },
  {
   "cell_type": "code",
   "execution_count": null,
   "metadata": {},
   "outputs": [],
   "source": []
  },
  {
   "cell_type": "code",
   "execution_count": 25,
   "metadata": {},
   "outputs": [],
   "source": []
  },
  {
   "cell_type": "code",
   "execution_count": null,
   "metadata": {},
   "outputs": [],
   "source": []
  }
 ],
 "metadata": {
  "kernelspec": {
   "display_name": "R",
   "language": "R",
   "name": "ir"
  },
  "language_info": {
   "codemirror_mode": "r",
   "file_extension": ".r",
   "mimetype": "text/x-r-source",
   "name": "R",
   "pygments_lexer": "r",
   "version": "3.4.2"
  }
 },
 "nbformat": 4,
 "nbformat_minor": 2
}
