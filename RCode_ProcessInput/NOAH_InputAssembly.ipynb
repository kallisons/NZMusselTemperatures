{
 "cells": [
  {
   "cell_type": "code",
   "execution_count": 1,
   "metadata": {},
   "outputs": [],
   "source": [
    "source('solarslope_function.R')"
   ]
  },
  {
   "cell_type": "code",
   "execution_count": 2,
   "metadata": {},
   "outputs": [],
   "source": [
    "#site<-\"NZSINR\"\n",
    "#lat<--41.90 \n",
    "#lon<-171.44\n",
    "#height<-0.5\n",
    "#incline<-21\n",
    "#aspect<-170\n",
    "#albedo<-0.1"
   ]
  },
  {
   "cell_type": "code",
   "execution_count": 31,
   "metadata": {},
   "outputs": [],
   "source": [
    "site<-\"NZSIBT\"\n",
    "lat<--43.58\n",
    "lon<-172.78\n",
    "height<-0.5\n",
    "incline<-14\n",
    "aspect<-290\n",
    "albedo<-0.1"
   ]
  },
  {
   "cell_type": "code",
   "execution_count": 32,
   "metadata": {},
   "outputs": [],
   "source": [
    "heights <- seq(0.5, 3.5, 0.1)"
   ]
  },
  {
   "cell_type": "code",
   "execution_count": 33,
   "metadata": {},
   "outputs": [],
   "source": [
    "basefolder <- paste('../data/', site, '/', sep='')"
   ]
  },
  {
   "cell_type": "code",
   "execution_count": 34,
   "metadata": {},
   "outputs": [],
   "source": [
    "readcfsr <- function(basefolder, var){    \n",
    "    varFolder<-paste(basefolder, \"cfsr_vars/\", var, \"/\", sep=\"\")\n",
    "    varFiles<-list.files(path=varFolder, pattern=NULL, full.names=FALSE, recursive=FALSE)\n",
    "\n",
    "    for(a in 1:length(varFiles)){\n",
    "        vardata<-read.table(paste(varFolder, varFiles[a], sep=\"\"), header=TRUE)\n",
    "        assign(varFiles[a], vardata)\n",
    "    }\n",
    "\n",
    "    allvardata<-do.call(\"rbind\", lapply(varFiles, as.name))\n",
    "\n",
    "    return(allvardata)\n",
    "}"
   ]
  },
  {
   "cell_type": "code",
   "execution_count": 35,
   "metadata": {},
   "outputs": [],
   "source": [
    "air<-readcfsr(basefolder, 'tmp2m')\n",
    "dlwrf<-readcfsr(basefolder, 'dlwsfc')\n",
    "dswrf<-readcfsr(basefolder, 'dswsfc')\n",
    "prate<-readcfsr(basefolder, 'prate')\n",
    "pres<-readcfsr(basefolder, 'pressfc')\n",
    "rhum<-readcfsr(basefolder, 'rh2m')\n",
    "uwnd<-readcfsr(basefolder, 'uwnd10m')\n",
    "vwnd<-readcfsr(basefolder, 'vwnd10m')"
   ]
  },
  {
   "cell_type": "code",
   "execution_count": 36,
   "metadata": {},
   "outputs": [],
   "source": [
    "weather<-merge(air, dlwrf, all=TRUE)\n",
    "weather<-merge(weather, prate, all=TRUE)\n",
    "weather<-merge(weather, pres, all=TRUE)\n",
    "weather<-merge(weather, rhum, all=TRUE)\n",
    "weather<-merge(weather, uwnd, all=TRUE)\n",
    "weather<-merge(weather, vwnd, all=TRUE)"
   ]
  },
  {
   "cell_type": "code",
   "execution_count": 37,
   "metadata": {},
   "outputs": [],
   "source": [
    "weather<-weather[order(weather$Unix),]\n",
    "colnames(weather)<-c(\"Unix\", \"jday\", \"air\", \"dlwrf\", \"prate\", \"pres\", \"rhum\", \"uwnd\", \"vwnd\")"
   ]
  },
  {
   "cell_type": "code",
   "execution_count": 38,
   "metadata": {},
   "outputs": [],
   "source": [
    "weather$wnd<-sqrt(weather$uwnd^2+weather$vwnd^2)\n",
    "weather$prate<-weather$prate*1800/25.4\n",
    "weather$pres<-weather$pres/100\n",
    "weather$air<-weather$air-273\n",
    "weather<-round(weather, digits=2)"
   ]
  },
  {
   "cell_type": "code",
   "execution_count": 39,
   "metadata": {},
   "outputs": [],
   "source": [
    "colnames(dswrf) <- c('Unix', 'jday', 'dswrf')\n",
    "solar_slope<-solarslope(lat, lon, incline, aspect, albedo, dswrf[,c('Unix', 'dswrf')]) \n",
    "weather<-merge(weather, solar_slope, all=TRUE)"
   ]
  },
  {
   "cell_type": "code",
   "execution_count": 40,
   "metadata": {},
   "outputs": [],
   "source": [
    "DateConvert<-weather$Unix\n",
    "class(DateConvert)<-\"POSIXct\"\n",
    "DateExtract<-as.POSIXlt(DateConvert)\n",
    "weather$Date<-as.character(DateExtract, format=\"%Y-%m-%d\")\n",
    "weather<-weather[order(weather$Unix),]\n",
    "duration<-length(unique(weather$Date))\n",
    "Ephemeris<-read.table(pipe(paste(\"~/Code/BaseCode/ephemeris/eph\", \" --lat \", lat, \" --lon \", lon, \"  --date \", weather$Date[1], \" --duration \", duration, \" --time 0\")))\n",
    "Ephemeris<-Ephemeris[,c(1,2,5)]\n",
    "colnames(Ephemeris)<-c(\"Date\", \"T\", \"Elev\")\n",
    "Ephemeris$T<-round(as.numeric(Ephemeris$T), digits=1)\n",
    "Ephemeris$Hour<-floor(as.numeric(Ephemeris$T))\n",
    "Ephemeris$Minute<-(as.numeric(Ephemeris$T)-floor(as.numeric(Ephemeris$T)))*60\n",
    "Ephemeris$Minute<-round(Ephemeris$Minute, digits=0)\n",
    "Ephemeris$DateTime<-paste(Ephemeris$Date, \" \", Ephemeris$Hour, \":\", Ephemeris$Minute, sep=\"\")\n",
    "Ephemeris<-subset(Ephemeris, Ephemeris$Minute==0 | Ephemeris$Minute==30)\n",
    "store<-strptime(Ephemeris$DateTime, \"%Y-%m-%d %H:%M\")\n",
    "store2<-as.POSIXct(store)\n",
    "class(store2)<-(\"numeric\")\n",
    "Ephemeris$Unix<-store2\n",
    "Ephemeris<-Ephemeris[,c(\"Unix\", \"Elev\")]\n",
    "weather<-merge(weather, Ephemeris, all=TRUE)\n",
    "weather<-weather[order(weather$Unix),]\n",
    "weather$dswrf<-ifelse(weather$Elev<=0, 0, weather$dswrf)"
   ]
  },
  {
   "cell_type": "code",
   "execution_count": 41,
   "metadata": {},
   "outputs": [],
   "source": [
    "MODASfolder<-paste(basefolder, \"/modas/\", sep=\"\")\n",
    "MODASfiles<-list.files(path=MODASfolder, pattern=NULL, full.names=FALSE, recursive=FALSE)\n",
    "for(c in 1:length(MODASfiles)){\n",
    "    sst<-read.table(paste(MODASfolder, MODASfiles[c], sep=\"\"), header=TRUE)\n",
    "    sst<-round(sst, digits=2)\n",
    "    assign(MODASfiles[c], sst)\n",
    "}\n",
    "sst<-do.call(\"rbind\", lapply(MODASfiles, as.name))\n",
    "sst<-sst[,c(\"Unix\", \"Temp\")]\n",
    "colnames(sst)[2]<-\"sst\"\n",
    "weather<-merge(weather, sst, all=TRUE)"
   ]
  },
  {
   "cell_type": "code",
   "execution_count": 42,
   "metadata": {},
   "outputs": [],
   "source": [
    "weather<-weather[,c(\"Unix\", \"air\", \"dlwrf\", \"prate\", \"pres\", \"rhum\", \"wnd\", \"dswrf\", \"sst\")]\n",
    "\n",
    "x<-weather$Unix\n",
    "y<-weather$air\n",
    "a<-approx(x,y,x, rule=2)\n",
    "weather$air<-a$y\n",
    "\n",
    "y<-weather$dlwrf\n",
    "lw<-approx(x,y,x, rule=2)\n",
    "weather$dlwrf<-lw$y\n",
    "\n",
    "y<-weather$prate\n",
    "pt<-approx(x,y,x, rule=2)\n",
    "weather$prate<-pt$y\n",
    "\n",
    "y<-weather$pres\n",
    "pr<-approx(x,y,x, rule=2)\n",
    "weather$pres<-pr$y\n",
    "\n",
    "y<-weather$rhum\n",
    "rh<-approx(x,y,x, rule=2)\n",
    "weather$rhum<-rh$y\n",
    "\n",
    "y<-weather$wnd\n",
    "wd<-approx(x,y,x, rule=2)\n",
    "weather$wnd<-wd$y\n",
    "\n",
    "y<-weather$dswrf\n",
    "sol<-approx(x,y,x, rule=2)\n",
    "weather$dswrf<-sol$y\n",
    "\n",
    "y<-weather$sst\n",
    "wt<-approx(x,y,x, rule=2)\n",
    "weather$sst<-wt$y\n",
    "weather$sst<-weather$sst+273\n",
    "\n",
    "weather[,c(\"air\",\"dlwrf\", \"pres\", \"wnd\", \"dswrf\", \"sst\")]<-round(weather[,c(\"air\",\"dlwrf\", \"pres\", \"wnd\", \"dswrf\", \"sst\")], digits=2)\n",
    "weather$prate<-round(weather$prate, digits=5)\n",
    "weather$rhum<-round(weather$rhum, digits=0)"
   ]
  },
  {
   "cell_type": "code",
   "execution_count": 43,
   "metadata": {},
   "outputs": [],
   "source": [
    "wavesfolder<-paste(basefolder, \"/waves/\", sep=\"\")\n",
    "wavesfiles<-list.files(path=wavesfolder, pattern=NULL, full.names=FALSE, recursive=FALSE)\n",
    "\n",
    "    for(d in 1:length(wavesfiles)){\n",
    "        w<-read.table(paste(wavesfolder, wavesfiles[d], sep=\"\"), head=TRUE, stringsAsFactors=FALSE)\n",
    "        w$dp<-ifelse(w$dp>360, NA, w$dp)\n",
    "        assign(wavesfiles[d], w)\n",
    "    }\n",
    "\n",
    "Wave<-do.call(\"rbind\", lapply(wavesfiles, as.name))\n",
    "x<-Wave$Unix\n",
    "y<-Wave$dp\n",
    "dp<-approx(x,y,x, rule=2)\n",
    "Wave$dp<-dp$y\n",
    "Wave$dp<-round(Wave$dp, digits=2)\n",
    "Wave$hs<-as.numeric(Wave$hs)\n",
    "\n",
    "slope<-incline\n",
    "slope<-tan(slope*(pi/180))\n",
    "Wave$L<-(9.8*(Wave$tp^2))/(2*pi)\n",
    "Wave$I<-slope/sqrt(Wave$hs/Wave$L)\n",
    "Wave$I<-ifelse(Wave$hs==0, 0, Wave$I)\n",
    "Wave$Runup<-Wave$hs*0.60*(Wave$I^0.34)\n",
    "Wave<-Wave[,c(\"Unix\", \"Runup\", \"dp\")]"
   ]
  },
  {
   "cell_type": "code",
   "execution_count": 44,
   "metadata": {},
   "outputs": [],
   "source": [
    "tides<-read.table(paste(basefolder, \"/tides/tides_MLLW_\", site, \".out\", sep=\"\"), header=TRUE)\n",
    "tides$DateTime<-paste(tides$Date, tides$Time)\n",
    "store<-strptime(tides$DateTime, \"%m.%d.%Y %H:%M\")\n",
    "store2<-as.POSIXct(store)\n",
    "class(store2)<-(\"numeric\")\n",
    "tides$Unix<-store2\n",
    "tides<-tides[,c(\"Unix\", \"Tide\")]"
   ]
  },
  {
   "cell_type": "code",
   "execution_count": 45,
   "metadata": {},
   "outputs": [],
   "source": [
    "WaveTide<-merge(Wave, tides, all=TRUE)\n",
    "x<-WaveTide$Unix\n",
    "\n",
    "y<-WaveTide$Runup\n",
    "ru<-approx(x,y,x, rule=2)\n",
    "WaveTide$Runup<-ru$y\n",
    "\n",
    "dir<-WaveTide$dp\n",
    "d<-approx(x,dir,x, rule=2)\n",
    "WaveTide$dp<-d$y\n",
    "\n",
    "site_dir<-read.table(paste(\"../data/WaveDirection.txt\", sep=\"\"), header=TRUE)\n",
    "a<-site_dir$Direction_a[which(site==site_dir$Site)]\n",
    "b<-site_dir$Direction_b[which(site==site_dir$Site)]\n",
    "\n",
    "if(b>a){WaveTide$Runup<-ifelse(WaveTide$dp>a & WaveTide$dp<b, WaveTide$Runup, 0)}\n",
    "if(b<a){WaveTide$Runup<-ifelse(WaveTide$dp>a | WaveTide$dp<b, WaveTide$Runup, 0)}\n",
    "\n",
    "WaveTide$Runup<-round(WaveTide$Runup, digits=3)\n",
    "\n",
    "WaveTide$Tide<-WaveTide$Tide+WaveTide$Runup"
   ]
  },
  {
   "cell_type": "code",
   "execution_count": 46,
   "metadata": {},
   "outputs": [],
   "source": [
    "heights <- seq(0.5, 3.5, 0.1)"
   ]
  },
  {
   "cell_type": "code",
   "execution_count": 53,
   "metadata": {},
   "outputs": [],
   "source": [
    "heights <-0.5"
   ]
  },
  {
   "cell_type": "code",
   "execution_count": 54,
   "metadata": {},
   "outputs": [
    {
     "name": "stdout",
     "output_type": "stream",
     "text": [
      "[1] \"NZSIBT\"\n",
      "[1] 0.5\n",
      "[1] \"NZSIBT\"\n",
      "[1] 1990\n",
      "[1] 17520\n",
      "[1] \"NZSIBT\"\n",
      "[1] 1991\n",
      "[1] 17520\n",
      "[1] \"NZSIBT\"\n",
      "[1] 1992\n",
      "[1] 17568\n",
      "[1] \"NZSIBT\"\n",
      "[1] 1993\n",
      "[1] 17520\n",
      "[1] \"NZSIBT\"\n",
      "[1] 1994\n",
      "[1] 17520\n",
      "[1] \"NZSIBT\"\n",
      "[1] 1995\n",
      "[1] 17520\n",
      "[1] \"NZSIBT\"\n",
      "[1] 1996\n",
      "[1] 17568\n",
      "[1] \"NZSIBT\"\n",
      "[1] 1997\n",
      "[1] 17520\n",
      "[1] \"NZSIBT\"\n",
      "[1] 1998\n",
      "[1] 17520\n",
      "[1] \"NZSIBT\"\n",
      "[1] 1999\n",
      "[1] 17520\n",
      "[1] \"NZSIBT\"\n",
      "[1] 2000\n",
      "[1] 17568\n",
      "[1] \"NZSIBT\"\n",
      "[1] 2001\n",
      "[1] 17520\n",
      "[1] \"NZSIBT\"\n",
      "[1] 2002\n",
      "[1] 17520\n",
      "[1] \"NZSIBT\"\n",
      "[1] 2003\n",
      "[1] 17520\n",
      "[1] \"NZSIBT\"\n",
      "[1] 2004\n",
      "[1] 17568\n",
      "[1] \"NZSIBT\"\n",
      "[1] 2005\n",
      "[1] 17520\n",
      "[1] \"NZSIBT\"\n",
      "[1] 2006\n",
      "[1] 17520\n",
      "[1] \"NZSIBT\"\n",
      "[1] 2007\n",
      "[1] 17520\n",
      "[1] \"NZSIBT\"\n",
      "[1] 2008\n",
      "[1] 17568\n",
      "[1] \"NZSIBT\"\n",
      "[1] 2009\n",
      "[1] 17520\n"
     ]
    }
   ],
   "source": [
    "for(h in 1:length(heights)){\n",
    "    height <- heights[h]\n",
    "    height2<-height*100\n",
    "    newdir <- paste(\"../modelinput/\", site, \"/height\", sprintf(\"%03.0f\", height2), \"cm\", sep=\"\")\n",
    "    dir.create(newdir, showWarnings = FALSE)\n",
    "    print(site)\n",
    "    print(height)\n",
    "    WaveTide$tideflag<-as.numeric(WaveTide$Tide<height)\n",
    "    TideFlag<-WaveTide[,c(\"Unix\",\"tideflag\")]    \n",
    "    NOAH<-merge(weather, TideFlag)\n",
    "    NOAH<-NOAH[order(NOAH$Unix),]\n",
    "    \n",
    "    DateConvert<-NOAH$Unix\n",
    "    class(DateConvert)<-\"POSIXct\"\n",
    "    DateExtract<-as.POSIXlt(DateConvert)\n",
    "    NOAH$hhmm<-as.character(DateExtract, format=\"%H%M\")\n",
    "    class(NOAH$hhmm)<-\"numeric\"\n",
    "    NOAH$year<-as.character(DateExtract, format=\"%Y\")\n",
    "    class(NOAH$year)<-\"numeric\"\n",
    "    allyears<-unique(NOAH$year)\n",
    "    \n",
    "    for(y in 1:length(allyears)){\n",
    "        final<-subset(NOAH, NOAH$year==allyears[y])\n",
    "        DateConvert<-final$Unix\n",
    "        class(DateConvert)<-\"POSIXct\"\n",
    "        DateExtract<-as.POSIXlt(DateConvert)\n",
    "        final$jday<-as.character(DateExtract, format=\"%j\")\n",
    "        class(final$jday)<-\"numeric\"\n",
    "        final<-final[order(final$Unix),]\n",
    "        final<-unique(final)\n",
    "        final<-final[,c(\"jday\", \"hhmm\", \"wnd\", \"air\", \"rhum\", \"pres\", \"dswrf\", \"dlwrf\", \"prate\", \"sst\", \"tideflag\")]\n",
    "        print(site) \n",
    "        print(allyears[y])\n",
    "        print(nrow(final))       \n",
    "        #write.table(final, paste(\"../modelinput/\", site, \"/height\", sprintf(\"%03.0f\", height2), \"cm/\", site, \"_\", sprintf(\"%03.0f\", height2), \"cm_\", allyears[y], \".in\", sep=\"\"), quote=FALSE, row.names=FALSE, col.names=FALSE)\n",
    "    }\n",
    "}"
   ]
  },
  {
   "cell_type": "code",
   "execution_count": null,
   "metadata": {},
   "outputs": [],
   "source": []
  },
  {
   "cell_type": "code",
   "execution_count": null,
   "metadata": {},
   "outputs": [],
   "source": []
  }
 ],
 "metadata": {
  "kernelspec": {
   "display_name": "R",
   "language": "R",
   "name": "ir"
  },
  "language_info": {
   "codemirror_mode": "r",
   "file_extension": ".r",
   "mimetype": "text/x-r-source",
   "name": "R",
   "pygments_lexer": "r",
   "version": "3.4.2"
  }
 },
 "nbformat": 4,
 "nbformat_minor": 2
}
