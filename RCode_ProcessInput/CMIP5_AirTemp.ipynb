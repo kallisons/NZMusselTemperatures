{
 "cells": [
  {
   "cell_type": "code",
   "execution_count": null,
   "metadata": {},
   "outputs": [],
   "source": []
  },
  {
   "cell_type": "code",
   "execution_count": 31,
   "metadata": {},
   "outputs": [],
   "source": [
    "#site<-\"NZSINR\"\n",
    "site<-\"NZSIBT\""
   ]
  },
  {
   "cell_type": "code",
   "execution_count": 32,
   "metadata": {},
   "outputs": [],
   "source": [
    "histfolder<-paste('../modelinput/historical/', site, '/', sep='')\n",
    "histheights<-list.files(histfolder)"
   ]
  },
  {
   "cell_type": "code",
   "execution_count": 33,
   "metadata": {},
   "outputs": [],
   "source": [
    "deltatemp<-3 #calculated delta temp using Ferret, annual average increase for New Zealand"
   ]
  },
  {
   "cell_type": "code",
   "execution_count": 34,
   "metadata": {},
   "outputs": [],
   "source": [
    "for(a in 1:length(histheights)){\n",
    "\n",
    "    histpath1h <-paste(histfolder, histheights[a], sep=\"\")\n",
    "    filelist <- list.files(histpath1h)\n",
    "    for(b in 1:length(filelist)){\n",
    "\n",
    "        data<-read.table(paste(histpath1h, '/', filelist[b], sep=''))\n",
    "        data[,4]<-ifelse(data[,11]==1,data[,4]+deltatemp, data[,4])        \n",
    "        height<-\n",
    "\n",
    "        newdir <- paste(\"../modelinput/future/\", site, \"/\", histheights[a], sep=\"\")\n",
    "        dir.create(newdir, showWarnings = FALSE)\n",
    "        write.table(data, paste(\"../modelinput/future/\", site, \"/\", histheights[a], \"/\", substr(filelist[b],1,17), \"_cmip5.in\",sep=\"\"), quote=FALSE, row.names=FALSE, col.names=FALSE)\n",
    "        \n",
    "    }\n",
    "}"
   ]
  },
  {
   "cell_type": "code",
   "execution_count": null,
   "metadata": {},
   "outputs": [],
   "source": []
  },
  {
   "cell_type": "code",
   "execution_count": null,
   "metadata": {},
   "outputs": [],
   "source": []
  }
 ],
 "metadata": {
  "kernelspec": {
   "display_name": "R",
   "language": "R",
   "name": "ir"
  },
  "language_info": {
   "codemirror_mode": "r",
   "file_extension": ".r",
   "mimetype": "text/x-r-source",
   "name": "R",
   "pygments_lexer": "r",
   "version": "3.4.2"
  }
 },
 "nbformat": 4,
 "nbformat_minor": 2
}
